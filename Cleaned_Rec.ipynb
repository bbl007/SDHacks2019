{
 "cells": [
  {
   "cell_type": "code",
   "execution_count": 1,
   "metadata": {},
   "outputs": [],
   "source": [
    "import pandas as pd\n",
    "import numpy as np\n",
    "\n",
    "#saving numpy state\n",
    "np_load_old = np.load\n",
    "\n",
    "# modify the default parameters of np.load\n",
    "np.load = lambda *a,**k: np_load_old(*a, allow_pickle=True, **k)"
   ]
  },
  {
   "cell_type": "code",
   "execution_count": 2,
   "metadata": {},
   "outputs": [],
   "source": [
    "#erading in top 3500 ingredients\n",
    "with np.load('simplified-recipes-1M.npz') as data:\n",
    "    recipes = data['recipes']\n",
    "    ingredients = data['ingredients']\n",
    "    \n",
    "#reseting numpy \n",
    "np.load = np_load_old"
   ]
  },
  {
   "cell_type": "code",
   "execution_count": 3,
   "metadata": {},
   "outputs": [],
   "source": [
    "ingredients = list(ingredients)\n",
    "ingredients.remove('ingredients')"
   ]
  },
  {
   "cell_type": "code",
   "execution_count": 4,
   "metadata": {},
   "outputs": [],
   "source": [
    "full = pd.read_csv('epi_r.csv')\n",
    "json = pd.read_json('full_format_recipes.json')"
   ]
  },
  {
   "cell_type": "code",
   "execution_count": 5,
   "metadata": {},
   "outputs": [],
   "source": [
    "#merging two dataframes to include ingredients and ratings\n",
    "combined = full.merge(json, left_index=True, right_index=True, suffixes=('', '_y'))\n",
    "\n",
    "#dropping categories\n",
    "combined_clean = combined.drop(columns=combined.columns[6:-9])\n",
    "combined_clean = combined_clean.drop(columns=['date_y', 'fat_y', 'protein_y', 'rating_y', 'sodium_y'])"
   ]
  },
  {
   "cell_type": "code",
   "execution_count": 6,
   "metadata": {},
   "outputs": [],
   "source": [
    "#grabbing the ingredients from the top list and checking if is in recipe list\n",
    "combined_clean['ingredients'] = combined_clean['ingredients'].astype(str)\n",
    "\n",
    "output1 = []\n",
    "for ing in ingredients:\n",
    "    items = combined_clean['ingredients']\n",
    "    output2 = []\n",
    "    for i in items:\n",
    "        output2.append(ing in i)\n",
    "    output1.append(output2)\n",
    "\n",
    "output_dict = {}\n",
    "for o, ing in zip(output1, ingredients):\n",
    "    output_dict[ing] = o"
   ]
  },
  {
   "cell_type": "code",
   "execution_count": 12,
   "metadata": {},
   "outputs": [],
   "source": [
    "#adding new top ingredients to dataframe and saving to new csv\n",
    "ing_df = pd.DataFrame(output_dict)\n",
    "full_df = pd.concat([combined_clean, ing_df], axis=1)\n",
    "three_or_more = [len(x) > 2 for x in list(full_df.columns)]\n",
    "full_df = full_df.iloc[:, three_or_more]\n",
    "full_df = full_df.drop(columns=['fresh', 'love', 'sliced', 'black', 'plus', 'whole', 'dry', 'packed', 'more', 'temperature', 'sweetened', 'soft', 'other', 'unsweetened', 'raw', 'half', 'mix', 'flavor', 'meal', 'flavored'])\n",
    "full_df.to_csv('full_df.csv')"
   ]
  },
  {
   "cell_type": "markdown",
   "metadata": {},
   "source": [
    "# Recommender "
   ]
  },
  {
   "cell_type": "code",
   "execution_count": 13,
   "metadata": {},
   "outputs": [],
   "source": [
    "#test case\n",
    "food_items = ['wine', 'honey', 'fish']\n",
    "\n",
    "output = np.zeros(len(full_df))\n",
    "for food in food_items:\n",
    "    output += full_df[food]\n",
    "    \n",
    "food_sim = pd.DataFrame({'similarity':output})\n",
    "top = list(food_sim.sort_values(by=['similarity'], ascending=False).index)"
   ]
  },
  {
   "cell_type": "code",
   "execution_count": null,
   "metadata": {},
   "outputs": [],
   "source": []
  }
 ],
 "metadata": {
  "kernelspec": {
   "display_name": "Python 3",
   "language": "python",
   "name": "python3"
  },
  "language_info": {
   "codemirror_mode": {
    "name": "ipython",
    "version": 3
   },
   "file_extension": ".py",
   "mimetype": "text/x-python",
   "name": "python",
   "nbconvert_exporter": "python",
   "pygments_lexer": "ipython3",
   "version": "3.7.3"
  }
 },
 "nbformat": 4,
 "nbformat_minor": 2
}
