{
 "cells": [
  {
   "cell_type": "code",
   "execution_count": 1,
   "metadata": {},
   "outputs": [],
   "source": [
    "import pandas as pd\n",
    "import numpy as np\n",
    "\n",
    "#saving numpy state\n",
    "np_load_old = np.load\n",
    "\n",
    "# modify the default parameters of np.load\n",
    "np.load = lambda *a,**k: np_load_old(*a, allow_pickle=True, **k)"
   ]
  },
  {
   "cell_type": "code",
   "execution_count": 2,
   "metadata": {},
   "outputs": [],
   "source": [
    "#erading in top 3500 ingredients\n",
    "with np.load('simplified-recipes-1M.npz') as data:\n",
    "    recipes = data['recipes']\n",
    "    ingredients = data['ingredients']\n",
    "    \n",
    "#reseting numpy \n",
    "np.load = np_load_old"
   ]
  },
  {
   "cell_type": "code",
   "execution_count": 3,
   "metadata": {},
   "outputs": [],
   "source": [
    "ingredients = list(ingredients)\n",
    "ingredients = [i for i in ingredients if len(i) > 2]\n",
    "ingredients = [e for e in ingredients if e not in ('ingredients', 'fresh', 'love', 'sliced', 'black', 'plus', 'whole', 'dry', 'packed', 'more', 'temperature', 'sweetened', 'soft', 'other', 'unsweetened', 'raw', 'half', 'mix', 'flavor', 'meal', 'flavored')]"
   ]
  },
  {
   "cell_type": "code",
   "execution_count": 4,
   "metadata": {},
   "outputs": [],
   "source": [
    "i_out = np.asarray(ingredients)\n",
    "np.savetxt('ingredients.txt', i_out, fmt='%s', delimiter = ',')"
   ]
  },
  {
   "cell_type": "code",
   "execution_count": 5,
   "metadata": {},
   "outputs": [],
   "source": [
    "full = pd.read_csv('epi_r.csv')\n",
    "json = pd.read_json('full_format_recipes.json')"
   ]
  },
  {
   "cell_type": "code",
   "execution_count": 6,
   "metadata": {},
   "outputs": [],
   "source": [
    "json = json.drop(columns=['categories'])\n",
    "json[['directions', 'ingredients']] = json[['directions', 'ingredients']].astype(str)\n",
    "full = full.drop_duplicates()\n",
    "json = json.drop_duplicates()"
   ]
  },
  {
   "cell_type": "code",
   "execution_count": 7,
   "metadata": {},
   "outputs": [],
   "source": [
    "#merging two dataframes to include ingredients and ratings\n",
    "combined = full.merge(json, on=['title','rating','calories'], suffixes=('', '_y'))\n",
    "\n",
    "#dropping categories\n",
    "combined_clean = combined.drop(columns=combined.columns[6:-7])\n",
    "combined_clean = combined_clean.drop(columns=['date_y', 'fat_y', 'protein_y', 'sodium_y'])"
   ]
  },
  {
   "cell_type": "code",
   "execution_count": 8,
   "metadata": {},
   "outputs": [],
   "source": [
    "#grabbing the ingredients from the top list and checking if is in recipe list\n",
    "combined_clean['ingredients'] = combined_clean['ingredients'].astype(str)\n",
    "\n",
    "output1 = []\n",
    "for ing in ingredients:\n",
    "    items = combined_clean['ingredients']\n",
    "    output2 = []\n",
    "    for i in items:\n",
    "        output2.append(ing in i)\n",
    "    output1.append(output2)\n",
    "\n",
    "output_dict = {}\n",
    "for o, ing in zip(output1, ingredients):\n",
    "    output_dict[ing] = o"
   ]
  },
  {
   "cell_type": "code",
   "execution_count": 9,
   "metadata": {},
   "outputs": [],
   "source": [
    "#adding new top ingredients to dataframe and saving to new csv\n",
    "ing_df = pd.DataFrame(output_dict)\n",
    "full_df = pd.concat([combined_clean, ing_df], axis=1)"
   ]
  },
  {
   "cell_type": "code",
   "execution_count": 10,
   "metadata": {},
   "outputs": [],
   "source": [
    "ing_vals = full_df.iloc[:, 10:].sum(axis=0)\n",
    "ing_vals = ing_vals.loc[ing_vals <= 5].index\n",
    "full_df = full_df.drop(columns = list(ing_vals))\n",
    "full_df = full_df.sort_values('rating', axis=0, ascending=False, inplace=False, kind='quicksort', na_position='last')\n",
    "full_df = full_df.drop_duplicates()\n",
    "full_df = full_df.iloc[:len(full_df)//8]\n",
    "full_df.to_csv('full_df.csv')"
   ]
  },
  {
   "cell_type": "markdown",
   "metadata": {},
   "source": [
    "# Recommender "
   ]
  },
  {
   "cell_type": "code",
   "execution_count": null,
   "metadata": {},
   "outputs": [],
   "source": [
    "#test case\n",
    "food_items = ['wine', 'honey', 'fish']\n",
    "\n",
    "output = np.zeros(len(full_df))\n",
    "for food in food_items:\n",
    "    output += full_df[food]\n",
    "    \n",
    "food_sim = pd.DataFrame({'similarity':output})\n",
    "top = list(food_sim.sort_values(by=['similarity'], ascending=False).index)"
   ]
  }
 ],
 "metadata": {
  "kernelspec": {
   "display_name": "Python 3",
   "language": "python",
   "name": "python3"
  },
  "language_info": {
   "codemirror_mode": {
    "name": "ipython",
    "version": 3
   },
   "file_extension": ".py",
   "mimetype": "text/x-python",
   "name": "python",
   "nbconvert_exporter": "python",
   "pygments_lexer": "ipython3",
   "version": "3.7.3"
  }
 },
 "nbformat": 4,
 "nbformat_minor": 2
}
