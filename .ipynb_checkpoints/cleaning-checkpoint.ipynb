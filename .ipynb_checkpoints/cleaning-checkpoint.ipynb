{
 "cells": [
  {
   "cell_type": "code",
   "execution_count": 1,
   "metadata": {},
   "outputs": [],
   "source": [
    "import pandas as pd"
   ]
  },
  {
   "cell_type": "code",
   "execution_count": 2,
   "metadata": {},
   "outputs": [],
   "source": [
    "# epi = pd.read_json('recipes_raw_nosource_epi.json')\n",
    "# ar = pd.read_json('recipes_raw_nosource_ar.json')\n",
    "# fn = pd.read_json('recipes_raw_nosource_fn.json')"
   ]
  },
  {
   "cell_type": "code",
   "execution_count": 3,
   "metadata": {},
   "outputs": [],
   "source": [
    "full = pd.read_csv('epi_r.csv')\n",
    "json = pd.read_json('full_format_recipes.json')"
   ]
  },
  {
   "cell_type": "code",
   "execution_count": 4,
   "metadata": {},
   "outputs": [],
   "source": [
    "combined = full.merge(json, left_on = 'title', right_on = 'title')\n",
    "combined_clean = combined.drop(columns=['kid-friendly', '#cakeweek', '#wasteless', '22-minute meals', '3-ingredient recipes', '30 days of groceries', 'advance prep required', 'alabama', 'alaska', 'alcoholic','anniversary', 'anthony bourdain', 'appetizer', 'arizona', 'back to school', 'backyard bbq', 'bastille day', 'beverly hills', 'blender', 'bon appétit', 'bon app��tit', 'boston', 'breakfast', 'brooklyn', 'buffet', 'bulgaria', 'california', 'cambridge', 'camping', 'canada', 'candy thermometer', 'chicago', 'christmas', 'christmas eve', 'cinco de mayo', 'cocktail party', 'coffee grinder', 'condiment', 'cook like a diner', 'connecticut', 'cookbook critic', 'costa mesa', 'cr��me de cacao', 'cuba', 'dairy free', 'dallas', 'deep-fry', 'denver', 'dinner', 'diwali', 'dominican republic', 'double boiler', 'drink', 'drinks', 'easter', 'edible gift', 'egypt', 'emeril lagasse', 'engagement party', 'england', 'entertaining', 'epi + ushg', 'epi loves the microwave', 'fall', 'family reunion', 'fat free', \"father's day\", 'flaming hot summer', 'florida', 'food processor', 'fourth of july', 'france', 'frankenrecipe', 'freeze/chill', 'freezer food', 'friendsgiving', 'frozen dessert', 'fry', 'georgia', 'germany', 'graduation', 'grill', 'grill/barbecue', 'guam', 'haiti', 'halloween', 'hawaii', 'healthy', 'high fiber', 'hollywood', 'hot drink', 'house & garden', 'house cocktail', 'houston', 'ice cream machine', 'idaho', 'illinois', 'indiana', 'iowa', 'ireland', 'israel', 'italy', 'jamaica', 'japan', 'juicer', 'kansas', 'kansas city', 'kentucky', 'kentucky derby', 'kid-friendly', 'kidney friendly', 'kitchen olympics', 'kosher for passover', 'kwanzaa', 'labor day', 'lancaster', 'las vegas', 'london', 'long beach', 'los angeles', 'louisiana', 'louisville', 'low cal', 'low carb', 'low cholesterol', 'low fat', 'low sodium', 'low sugar', 'low/no sugar', 'lunar new year', 'lunch', 'maine', 'maryland', 'massachusetts', 'mexico', 'miami', 'michigan', 'microwave', 'minneapolis', 'minnesota', 'mississippi', 'missouri', 'mixer', 'mortar and pestle', \"mother's day\", 'nancy silverton', 'nebraska', 'new hampshire', 'new jersey', 'new mexico', \"new year's day\", \"new year's eve\", 'new york', 'no meat, no problem', 'no sugar added', 'no-cook', 'non-alcoholic', 'north carolina', 'ohio', 'oklahoma', 'oktoberfest', 'one-pot meal', 'oregon', 'organic', 'pan-fry', 'parade', 'paris', 'party', 'pasadena', 'passover', 'pasta maker', 'pastry', 'peanut free', 'pennsylvania', 'persian new year', 'peru', 'pescatarian', 'philippines', 'picnic', 'pittsburgh', 'poker/game night', 'port', 'portland', 'potluck', 'pressure cooker', 'providence', 'quick & easy', 'quick and healthy', 'rack of lamb', 'ramadan', 'ramekin', 'raw', 'rhode island', 'roast', 'rosh hashanah/yom kippur', 'san francisco', 'santa monica', 'sauté', 'seattle', 'self', 'shower', 'side', 'simmer', 'skewer', 'slow cooker', 'soup/stew', 'south carolina', 'soy free', 'spain', 'spring', 'st. louis', \"st. patrick's day\", 'steam', 'stir-fry', 'stuffing/dressing', 'sugar conscious', 'sukkot', 'summer', 'super bowl', 'suzanne goin', 'switzerland', 'tailgating', 'tennessee', 'tested & improved', 'texas', 'thanksgiving', 'tree nut', 'tree nut free', 'triple sec', 'utah', \"valentine's day\", 'vegan', 'vegetarian', 'vermont', 'virginia', 'washington', 'washington, d.c.', 'wedding', 'weelicious', 'west virginia', 'westwood', 'winter', 'wisconsin', 'wok', 'yonkers', 'cookbooks', 'leftovers', 'snack', 'snack week'])\n",
    "combined_clean = combined_clean.drop(columns = ['date_y', 'date_x', 'birthday', 'boil', 'broil', 'colorado', 'columbus', 'dorie greenspan', 'healdsburg', 'new orleans', 'oscars', 'sandwich theory'])"
   ]
  },
  {
   "cell_type": "code",
   "execution_count": 5,
   "metadata": {},
   "outputs": [],
   "source": [
    "combined_clean.to_csv('cleaned.csv')"
   ]
  },
  {
   "cell_type": "code",
   "execution_count": 6,
   "metadata": {},
   "outputs": [],
   "source": [
    "import numpy as np\n",
    "np_load_old = np.load\n",
    "\n",
    "# modify the default parameters of np.load\n",
    "np.load = lambda *a,**k: np_load_old(*a, allow_pickle=True, **k)"
   ]
  },
  {
   "cell_type": "code",
   "execution_count": 7,
   "metadata": {},
   "outputs": [],
   "source": [
    "with np.load('simplified-recipes-1M.npz') as data:\n",
    "    recipes = data['recipes']\n",
    "    ingredients = data['ingredients']"
   ]
  },
  {
   "cell_type": "code",
   "execution_count": 8,
   "metadata": {},
   "outputs": [],
   "source": [
    "np.load = np_load_old"
   ]
  },
  {
   "cell_type": "code",
   "execution_count": 9,
   "metadata": {},
   "outputs": [
    {
     "data": {
      "text/plain": [
       "1067557"
      ]
     },
     "execution_count": 9,
     "metadata": {},
     "output_type": "execute_result"
    }
   ],
   "source": [
    "len(recipes)"
   ]
  },
  {
   "cell_type": "code",
   "execution_count": 12,
   "metadata": {},
   "outputs": [
    {
     "data": {
      "text/plain": [
       "Index(['title', 'rating_x', 'calories_x', 'protein_x', 'fat_x', 'sodium_x',\n",
       "       'almond', 'amaretto', 'anchovy', 'anise',\n",
       "       ...\n",
       "       'turkey', 'calories_y', 'categories', 'desc', 'directions', 'fat_y',\n",
       "       'ingredients', 'protein_y', 'rating_y', 'sodium_y'],\n",
       "      dtype='object', length=430)"
      ]
     },
     "execution_count": 12,
     "metadata": {},
     "output_type": "execute_result"
    }
   ],
   "source": [
    "combined_clean.columns\n",
    "#6"
   ]
  },
  {
   "cell_type": "code",
   "execution_count": null,
   "metadata": {},
   "outputs": [],
   "source": []
  }
 ],
 "metadata": {
  "kernelspec": {
   "display_name": "Python 3",
   "language": "python",
   "name": "python3"
  },
  "language_info": {
   "codemirror_mode": {
    "name": "ipython",
    "version": 3
   },
   "file_extension": ".py",
   "mimetype": "text/x-python",
   "name": "python",
   "nbconvert_exporter": "python",
   "pygments_lexer": "ipython3",
   "version": "3.6.3"
  }
 },
 "nbformat": 4,
 "nbformat_minor": 2
}
